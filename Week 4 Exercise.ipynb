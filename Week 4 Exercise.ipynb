{
 "cells": [
  {
   "cell_type": "markdown",
   "id": "9b4405e0",
   "metadata": {},
   "source": [
    "## Question 1"
   ]
  },
  {
   "cell_type": "code",
   "execution_count": null,
   "id": "1fa767be",
   "metadata": {},
   "outputs": [],
   "source": [
    "import cv2 as cv\n",
    "import numpy as np\n",
    "import matplotlib.pyplot as plt\n",
    "from util_func import show_img\n",
    "\n",
    "height = 500\n",
    "width = 500\n",
    "\n",
    "img = np.random.randint(0, 256, size=(height, width), dtype=np.uint8)\n",
    "img_rgb = np.random.randint(0, 256, size=(height, width, 3), dtype=np.uint8)\n",
    "\n",
    "cv.imshow(\"gray\", img)\n",
    "show_img(\"rgb\", img_rgb)"
   ]
  },
  {
   "cell_type": "markdown",
   "id": "e0f31150",
   "metadata": {},
   "source": [
    "## Question 2"
   ]
  },
  {
   "cell_type": "code",
   "execution_count": null,
   "id": "71a48fb6",
   "metadata": {},
   "outputs": [],
   "source": [
    "def crop_grid(img, num_horizontal_grid, num_vertical_grid, line_color):\n",
    "    height, width = img.shape[:2]\n",
    "    M, N = int(height / num_vertical_grid), int(width / num_horizontal_grid)\n",
    "\n",
    "    x1, y1 = 0, 0\n",
    "\n",
    "    for y in range(0, height, M):\n",
    "        for x in range(0, width, N):\n",
    "        \n",
    "            y1 = y + M\n",
    "            x1 = x + N\n",
    "\n",
    "            if x1>=width and y1>=height:\n",
    "                x1 = width-1\n",
    "                y1 = height-1\n",
    "                cv.rectangle(img, (x,y), (x1, y1), line_color, 1)\n",
    "            \n",
    "            elif y1>=height:\n",
    "                y1 = height-1\n",
    "                cv.rectangle(img, (x, y), (x1, y1), line_color, 1)\n",
    "            \n",
    "            elif x1>=width:\n",
    "                x1 = width-1\n",
    "                cv.rectangle(img, (x, y), (x1, y1), line_color, 1)\n",
    "            \n",
    "            else:\n",
    "                cv.rectangle(img, (x, y), (x1, y1), line_color, 1)\n",
    "\n",
    "    return show_img('patched image', img)\n",
    "\n",
    "# img is the source image\n",
    "# num_horizontal_grid and num_vertical_grid are the number of patches along x and y axes.\n",
    "# line_color is the color of the grid line.\n",
    "# The output of the function should be image with grids\n",
    "\n",
    "crop_grid(cv.imread('images/dog.jfif'), 3, 2, (255, 255, 0))"
   ]
  },
  {
   "cell_type": "markdown",
   "id": "c3461998",
   "metadata": {},
   "source": [
    "## Question 3"
   ]
  },
  {
   "cell_type": "code",
   "execution_count": null,
   "id": "81f4a681",
   "metadata": {},
   "outputs": [],
   "source": [
    "img1 = cv.imread(\"images/lena.jfif\")\n",
    "img2 = cv.imread(\"images/coins.jfif\")\n",
    "\n",
    "# Reshape img2\n",
    "new_shape = img1.shape[:2]\n",
    "img2 = cv.resize(img2, new_shape[::-1])\n",
    "\n",
    "alpha1 = 0.75\n",
    "alpha2 = 1.5\n",
    "\n",
    "dst1 = cv.addWeighted(img1, alpha1, img2, 0.25, 0)\n",
    "dst2 = cv.addWeighted(img1, alpha2, img2, 0.25, 0)\n",
    "\n",
    "cv.imshow('lena', img1)\n",
    "cv.imshow('reshaped coin', img2)\n",
    "cv.imshow(f\"blending {alpha1}\", dst1)\n",
    "show_img(f\"blending {alpha2}\", dst2)"
   ]
  },
  {
   "cell_type": "markdown",
   "id": "7063a8d7",
   "metadata": {},
   "source": [
    "## Question 4"
   ]
  },
  {
   "cell_type": "code",
   "execution_count": null,
   "id": "abab256f",
   "metadata": {},
   "outputs": [],
   "source": [
    "img = cv.imread(\"images/travel_hd.jpg\")\n",
    "img_copy = cv.resize(img, (500, 750), interpolation=cv.INTER_LINEAR)\n",
    "watermark = np.zeros_like(img_copy, dtype = np.uint8)\n",
    "\n",
    "font_size = 0.45\n",
    "x = 10\n",
    "y = int(img_copy.shape[0]) - 10\n",
    "transparency = 0.25\n",
    "\n",
    "cv.putText(watermark, \"CV lab UCCC2513\", (x, y), cv.FONT_HERSHEY_SIMPLEX, font_size, (255, 255, 255, 128), 2)\n",
    "watermarked = cv.addWeighted(img_copy, 1, watermark, transparency, 0)\n",
    "\n",
    "show_img(\"watermark\", watermarked)"
   ]
  }
 ],
 "metadata": {
  "kernelspec": {
   "display_name": "Python 3 (ipykernel)",
   "language": "python",
   "name": "python3"
  },
  "language_info": {
   "codemirror_mode": {
    "name": "ipython",
    "version": 3
   },
   "file_extension": ".py",
   "mimetype": "text/x-python",
   "name": "python",
   "nbconvert_exporter": "python",
   "pygments_lexer": "ipython3",
   "version": "3.11.4"
  }
 },
 "nbformat": 4,
 "nbformat_minor": 5
}
