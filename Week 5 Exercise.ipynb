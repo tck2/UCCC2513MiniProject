{
 "cells": [
  {
   "cell_type": "markdown",
   "id": "65dfc8d5",
   "metadata": {},
   "source": [
    "# Week 5 Exercise"
   ]
  },
  {
   "cell_type": "code",
   "execution_count": 2,
   "id": "39353d3f",
   "metadata": {},
   "outputs": [
    {
     "data": {
      "text/plain": [
       "True"
      ]
     },
     "execution_count": 2,
     "metadata": {},
     "output_type": "execute_result"
    }
   ],
   "source": [
    "import sys\n",
    "# assert Python 3.7 or later is required\n",
    "assert sys.version_info >= (3, 7)\n",
    "\n",
    "import cv2 as cv\n",
    "import matplotlib.pyplot as plt\n",
    "import numpy as np\n",
    "import imutils as im\n",
    "from util_func import *\n",
    "\n",
    "# Make sure that optimization is enabled\n",
    "if not cv.useOptimized():\n",
    "    cv.setUseOptimized(True)\n",
    "    \n",
    "cv.useOptimized()"
   ]
  },
  {
   "cell_type": "markdown",
   "id": "16587a9e",
   "metadata": {},
   "source": [
    "## Question 1"
   ]
  },
  {
   "cell_type": "markdown",
   "id": "5c135654",
   "metadata": {},
   "source": [
    "### Strategy 1"
   ]
  },
  {
   "cell_type": "code",
   "execution_count": null,
   "id": "f3743fde",
   "metadata": {},
   "outputs": [],
   "source": [
    "img = cv.imread(\"images/lena.jfif\")\n",
    "h, w = img.shape[:2]\n",
    "\n",
    "xc, yc = (w // 2, h // 2)\n",
    "angle = 45\n",
    "# rotation matrix\n",
    "M = cv.getRotationMatrix2D((xc, yc), angle, 1.0)\n",
    "\n",
    "cos = abs(M[0, 0])\n",
    "sin = abs(M[0, 1])\n",
    "# new width and new height\n",
    "w2 = int((h * sin) + (w * cos))\n",
    "h2 = int((h * cos) + (w * sin))\n",
    "M[0, 2] += (w2 / 2) - xc\n",
    "M[1, 2] += (h2 / 2) - yc\n",
    "\n",
    "rotated_image = cv.warpAffine(img, M, (w2, h2))\n",
    "\n",
    "cv.imshow(\"Original Image\", img)\n",
    "show_img(\"Rotated Image\", rotated_image)\n"
   ]
  },
  {
   "cell_type": "markdown",
   "id": "3dd7fd7c",
   "metadata": {},
   "source": [
    "### Strategy 2"
   ]
  },
  {
   "cell_type": "code",
   "execution_count": null,
   "id": "5d364b13",
   "metadata": {},
   "outputs": [],
   "source": [
    "img = cv.imread(\"images/lena.jfif\")\n",
    "\n",
    "rotated_image = im.rotate_bound(img, angle=45)\n",
    "\n",
    "cv.imshow(\"Original Image\", img)\n",
    "show_img(\"Rotated Image\", rotated_image)\n"
   ]
  },
  {
   "cell_type": "markdown",
   "id": "c59756ea",
   "metadata": {},
   "source": [
    "## Question 2"
   ]
  },
  {
   "cell_type": "code",
   "execution_count": null,
   "id": "2a7f7289",
   "metadata": {},
   "outputs": [],
   "source": [
    "# Sorry Sir, I really don't know how to do this"
   ]
  },
  {
   "cell_type": "markdown",
   "id": "3f940fb1",
   "metadata": {},
   "source": [
    "## Question 3"
   ]
  },
  {
   "cell_type": "code",
   "execution_count": null,
   "id": "24e1bb41",
   "metadata": {},
   "outputs": [],
   "source": [
    "img = cv.imread(\"images/native-bee.png\")\n",
    "img_copy = img.copy()\n",
    "\n",
    "kernel_3x3 = np.array([[0, -1, 0], [-1, 5, -1], [0, -1, 0]], dtype=np.float32)\n",
    "kernel_5x5 = np.array([[-1, -1, -1, -1, -1],\n",
    "                       [-1, -1, -1, -1, -1],\n",
    "                       [-1, -1, 25, -1, -1],\n",
    "                       [-1, -1, -1, -1, -1],\n",
    "                       [-1, -1, -1, -1, -1]], dtype=np.float32)\n",
    "\n",
    "sharpened_3x3 = cv.filter2D(img_copy, -1, kernel_3x3)\n",
    "sharpened_5x5 = cv.filter2D(img_copy, -1, kernel_5x5)\n",
    "\n",
    "cv.imshow(\"Original Image\", img_copy)\n",
    "cv.imshow(\"Sharpened 3x3\", sharpened_3x3)\n",
    "show_img(\"Sharpened 5x5\", sharpened_5x5)"
   ]
  },
  {
   "cell_type": "markdown",
   "id": "cd9ccedf",
   "metadata": {},
   "source": [
    "- The 3x3 kernel apply a light sharpening effect on the image, but as the sharpening effect is not too strong, the sharpened images can still retain its original appearance\n",
    "- The 5x5 kernel apply stroing sharpening effect on the image, but because of the sharpening is too strong, it may also amplify unwanted noises and artifacts in the image, making it undesirable compared to the original image."
   ]
  },
  {
   "cell_type": "markdown",
   "id": "c8c60501",
   "metadata": {},
   "source": [
    "## Question 4\n"
   ]
  },
  {
   "cell_type": "code",
   "execution_count": null,
   "id": "6bd1739c",
   "metadata": {},
   "outputs": [],
   "source": [
    "img = cv.imread(\"images/noise_lena.jpg\")\n",
    "\n",
    "# average filtered\n",
    "avg = cv.blur(img, (5, 5))\n",
    "\n",
    "# gaussian blurred\n",
    "gaussian = cv.GaussianBlur(img, (5, 5), 0)\n",
    "\n",
    "# median filtered\n",
    "median = cv.medianBlur(img, 5)\n",
    "\n",
    "cv.imshow(\"Original Image\", img)\n",
    "cv.imshow(\"Average Filtered\", avg)\n",
    "cv.imshow(\"Gaussian Blurred\", gaussian)\n",
    "show_img(\"Median Filtered\", median)\n"
   ]
  },
  {
   "cell_type": "markdown",
   "id": "910f0518",
   "metadata": {},
   "source": [
    "- average filtered: effective at reducing high-frequency noise, but also blur edges and fine details\n",
    "- Gaussian blurred: Reduces noise while preserving more details and edges, outcome is smoother than average filtered\n",
    "- Median filtered: effective at reducing \"salt and pepper noise\", output show cleaner image compared to the original"
   ]
  },
  {
   "cell_type": "code",
   "execution_count": null,
   "id": "fab572fe",
   "metadata": {},
   "outputs": [],
   "source": []
  }
 ],
 "metadata": {
  "kernelspec": {
   "display_name": "Python 3 (ipykernel)",
   "language": "python",
   "name": "python3"
  },
  "language_info": {
   "codemirror_mode": {
    "name": "ipython",
    "version": 3
   },
   "file_extension": ".py",
   "mimetype": "text/x-python",
   "name": "python",
   "nbconvert_exporter": "python",
   "pygments_lexer": "ipython3",
   "version": "3.11.4"
  }
 },
 "nbformat": 4,
 "nbformat_minor": 5
}
