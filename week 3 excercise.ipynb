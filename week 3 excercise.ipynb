{
 "cells": [
  {
   "cell_type": "markdown",
   "id": "f59fb94c",
   "metadata": {},
   "source": [
    "# Weekly Excercise"
   ]
  },
  {
   "cell_type": "markdown",
   "id": "f919328f",
   "metadata": {},
   "source": [
    "## Question 1"
   ]
  },
  {
   "cell_type": "code",
   "execution_count": null,
   "id": "d0db7da3",
   "metadata": {},
   "outputs": [],
   "source": [
    "import cv2 as cv\n",
    "\n",
    "if not cv.useOptimized():\n",
    "    cv.setUseOptimized(True)\n",
    "\n",
    "cv.useOptimized()\n",
    "\n",
    "img = cv.imread(\"images/dog.jfif\")\n",
    "cv.imshow(\"dog\", img)\n",
    "\n",
    "k = cv.waitKey(0) &0xFF\n",
    "if k == 115: #press 's' key (according to ASCII value of s)\n",
    "    cv.imwrite(\"images/dog_save.jpg\", img)\n",
    "    \n",
    "cv.destroyAllWindows()"
   ]
  },
  {
   "cell_type": "markdown",
   "id": "413d0993",
   "metadata": {},
   "source": [
    "## Question 2"
   ]
  },
  {
   "cell_type": "code",
   "execution_count": null,
   "id": "67d57329",
   "metadata": {},
   "outputs": [],
   "source": [
    "import cv2 as cv\n",
    "\n",
    "if not cv.useOptimized():\n",
    "    cv.setUseOptimized(True)\n",
    "\n",
    "cv.useOptimized()\n",
    "\n",
    "def show_img(window_name, img):\n",
    "    cv.imshow(window_name, img)\n",
    "    cv.waitKey(0)\n",
    "    cv.destroyAllWindows()\n",
    "\n",
    "#method 1\n",
    "\n",
    "img = cv.imread('images/lena.jfif')\n",
    "grayscale = cv.cvtColor(img, cv.COLOR_BGR2GRAY)\n",
    "\n",
    "cv.imshow(\"lena\", img)\n",
    "show_img(\"grayscale\", grayscale)\n",
    "\n",
    "#method 2\n",
    "\n",
    "import matplotlib.pyplot as plt\n",
    "\n",
    "img_rgb = cv.cvtColor(img, cv.COLOR_BGR2RGB)\n",
    "\n",
    "plt.subplot(121)\n",
    "plt.imshow(img_rgb)\n",
    "plt.xticks([]), plt.yticks([])\n",
    "plt.subplot(122)\n",
    "plt.imshow(grayscale, cmap=plt.cm.gray)\n",
    "plt.xticks([]), plt.yticks([])\n",
    "plt.suptitle(\"color vs grayscale\")\n",
    "plt.show()"
   ]
  },
  {
   "cell_type": "markdown",
   "id": "da9e3709",
   "metadata": {},
   "source": [
    "## Question 3"
   ]
  },
  {
   "cell_type": "code",
   "execution_count": 2,
   "id": "70430410",
   "metadata": {},
   "outputs": [],
   "source": [
    "import cv2 as cv\n",
    "import numpy as np\n",
    "\n",
    "if not cv.useOptimized():\n",
    "    cv.setUseOptimized(True)\n",
    "\n",
    "cv.useOptimized()\n",
    "\n",
    "cap = cv.VideoCapture('videos/img_pexels.mp4')\n",
    "\n",
    "if not cap.isOpened():\n",
    "    raise Exception(\"No video detected\")\n",
    "\n",
    "width = 500\n",
    "height = 400\n",
    "\n",
    "fourcc = cv.VideoWriter_fourcc(*'MP4V')\n",
    "fps = 30\n",
    "\n",
    "out = cv.VideoWriter('videos/smaller_img_pexels.mp4', fourcc, fps, (width, height))\n",
    "\n",
    "while cap.isOpened():\n",
    "    ret, frame = cap.read()\n",
    "\n",
    "    if not ret:\n",
    "        print(\"Can't receive frame\")\n",
    "        break\n",
    "\n",
    "    smaller_frame = cv.resize(frame, (width, height))\n",
    "    \n",
    "    cv.imshow('frame', frame)\n",
    "    cv.imshow('smaller frame', smaller_frame)\n",
    "\n",
    "    out.write(smaller_frame)\n",
    "\n",
    "    if cv.waitKey(1) & 0xFF == 27: #esc key\n",
    "        break\n",
    "\n",
    "cap.release()\n",
    "out.release()\n",
    "cv.destroyAllWindows()\n",
    "\n"
   ]
  },
  {
   "cell_type": "markdown",
   "id": "1c69e459",
   "metadata": {},
   "source": [
    "## Question 4"
   ]
  },
  {
   "cell_type": "code",
   "execution_count": null,
   "id": "744922be",
   "metadata": {},
   "outputs": [],
   "source": [
    "import cv2 as cv\n",
    "import time\n",
    "\n",
    "if not cv.useOptimized():\n",
    "    cv.setUseOptimized(True)\n",
    "\n",
    "cv.useOptimized()\n",
    "\n",
    "img = cv.imread('images/dog.jfif')\n",
    "\n",
    "cv.imshow('original', img)\n",
    "\n",
    "img_resize1 = cv.resize(img, None, fx = 1.5, fy = 1.5, interpolation=cv.INTER_LINEAR)\n",
    "img_resize2 = cv.resize(img, None, fx = 1.5, fy = 1.5, interpolation=cv.INTER_CUBIC)\n",
    "img_resize3 = cv.resize(img, None, fx = 1.5, fy = 1.5, interpolation=cv.INTER_NEAREST)\n",
    "\n",
    "cv.imshow('linear interpolation', img_resize1)\n",
    "cv.imshow('cubic interpolation', img_resize2)\n",
    "show_img('nearest interpolation', img_resize3)"
   ]
  }
 ],
 "metadata": {
  "kernelspec": {
   "display_name": "Python 3 (ipykernel)",
   "language": "python",
   "name": "python3"
  },
  "language_info": {
   "codemirror_mode": {
    "name": "ipython",
    "version": 3
   },
   "file_extension": ".py",
   "mimetype": "text/x-python",
   "name": "python",
   "nbconvert_exporter": "python",
   "pygments_lexer": "ipython3",
   "version": "3.11.4"
  }
 },
 "nbformat": 4,
 "nbformat_minor": 5
}
